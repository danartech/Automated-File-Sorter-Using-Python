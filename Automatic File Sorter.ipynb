{
 "cells": [
  {
   "cell_type": "markdown",
   "id": "5c2fd794-cf05-449c-95ea-4b73fa0571aa",
   "metadata": {},
   "source": [
    "Automatic File Sorter in File Explorer"
   ]
  },
  {
   "cell_type": "code",
   "execution_count": 53,
   "id": "e20be0fb-7d64-4f8e-abab-4149a6c92b13",
   "metadata": {},
   "outputs": [],
   "source": [
    "import os, shutil"
   ]
  },
  {
   "cell_type": "code",
   "execution_count": 55,
   "id": "02d638bd-9475-40a6-bd31-ce8cadb54718",
   "metadata": {},
   "outputs": [],
   "source": [
    "path= r\"C:/Users/Dana/OneDrive/Documents/Tech Stuff/Data Analyst/Data Analyst Bootcamp/Python File Sorter/\""
   ]
  },
  {
   "cell_type": "code",
   "execution_count": 57,
   "id": "2a2d91fc-f960-41b4-9571-43bc53335a09",
   "metadata": {},
   "outputs": [],
   "source": [
    "file_name = os.listdir(path)"
   ]
  },
  {
   "cell_type": "code",
   "execution_count": 59,
   "id": "2c4ef01a-b449-4207-b4c0-8e57ab786122",
   "metadata": {},
   "outputs": [
    {
     "name": "stdout",
     "output_type": "stream",
     "text": [
      "C:/Users/Dana/OneDrive/Documents/Tech Stuff/Data Analyst/Data Analyst Bootcamp/Python File Sorter/csv files\n",
      "C:/Users/Dana/OneDrive/Documents/Tech Stuff/Data Analyst/Data Analyst Bootcamp/Python File Sorter/image files\n",
      "C:/Users/Dana/OneDrive/Documents/Tech Stuff/Data Analyst/Data Analyst Bootcamp/Python File Sorter/text files\n"
     ]
    }
   ],
   "source": [
    "folder_names = ['csv files', 'image files', 'text files']\n",
    "\n",
    "for loop in range(0,3):\n",
    "    if not os.path.exists(path + folder_names[loop]):\n",
    "        print(path + folder_names[loop])\n",
    "        os.makedirs(path + folder_names[loop])"
   ]
  },
  {
   "cell_type": "code",
   "execution_count": 61,
   "id": "42f826d4-b762-47df-991e-eeb2cfd960a1",
   "metadata": {},
   "outputs": [],
   "source": [
    "for file in file_name:\n",
    "    if \".csv\" in file and not os.path.exists(path + \"csv files/\" + file):\n",
    "        shutil.move(path + file, path + \"csv files/\" + file)\n",
    "    elif \".png\" in file and not os.path.exists(path + \"image files/\" + file):\n",
    "        shutil.move(path + file, path + \"image files/\" + file)\n",
    "    elif \".txt\" in file and not os.path.exists(path + \"text files/\" + file):\n",
    "        shutil.move(path + file, path + \"text files/\" + file)"
   ]
  },
  {
   "cell_type": "code",
   "execution_count": null,
   "id": "10a5dfc8-ede3-47a4-a465-5a3af7fca30e",
   "metadata": {},
   "outputs": [],
   "source": []
  },
  {
   "cell_type": "code",
   "execution_count": null,
   "id": "871b8c83-f7f5-4c54-9c67-43b5df7805cb",
   "metadata": {},
   "outputs": [],
   "source": []
  },
  {
   "cell_type": "code",
   "execution_count": null,
   "id": "0b1c7b7f-415e-43be-b765-c62dc4bac31c",
   "metadata": {},
   "outputs": [],
   "source": []
  }
 ],
 "metadata": {
  "kernelspec": {
   "display_name": "Python 3 (ipykernel)",
   "language": "python",
   "name": "python3"
  },
  "language_info": {
   "codemirror_mode": {
    "name": "ipython",
    "version": 3
   },
   "file_extension": ".py",
   "mimetype": "text/x-python",
   "name": "python",
   "nbconvert_exporter": "python",
   "pygments_lexer": "ipython3",
   "version": "3.11.7"
  }
 },
 "nbformat": 4,
 "nbformat_minor": 5
}
